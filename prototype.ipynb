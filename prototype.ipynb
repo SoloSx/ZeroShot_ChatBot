{
  "cells": [
    {
      "cell_type": "code",
      "execution_count": 1,
      "metadata": {
        "colab": {
          "base_uri": "https://localhost:8080/"
        },
        "id": "aOUzPwY7-Vxd",
        "outputId": "b6781b70-167d-46fc-b83d-1dfe8e48bd77"
      },
      "outputs": [
        {
          "name": "stdout",
          "output_type": "stream",
          "text": [
            "Collecting transformers\n",
            "  Downloading transformers-4.33.1-py3-none-any.whl (7.6 MB)\n",
            "\u001b[2K     \u001b[90m━━━━━━━━━━━━━━━━━━━━━━━━━━━━━━━━━━━━━━━━\u001b[0m \u001b[32m7.6/7.6 MB\u001b[0m \u001b[31m21.9 MB/s\u001b[0m eta \u001b[36m0:00:00\u001b[0m\n",
            "\u001b[?25hRequirement already satisfied: filelock in /usr/local/lib/python3.10/dist-packages (from transformers) (3.12.3)\n",
            "Collecting huggingface-hub<1.0,>=0.15.1 (from transformers)\n",
            "  Downloading huggingface_hub-0.16.4-py3-none-any.whl (268 kB)\n",
            "\u001b[2K     \u001b[90m━━━━━━━━━━━━━━━━━━━━━━━━━━━━━━━━━━━━━━\u001b[0m \u001b[32m268.8/268.8 kB\u001b[0m \u001b[31m25.5 MB/s\u001b[0m eta \u001b[36m0:00:00\u001b[0m\n",
            "\u001b[?25hRequirement already satisfied: numpy>=1.17 in /usr/local/lib/python3.10/dist-packages (from transformers) (1.23.5)\n",
            "Requirement already satisfied: packaging>=20.0 in /usr/local/lib/python3.10/dist-packages (from transformers) (23.1)\n",
            "Requirement already satisfied: pyyaml>=5.1 in /usr/local/lib/python3.10/dist-packages (from transformers) (6.0.1)\n",
            "Requirement already satisfied: regex!=2019.12.17 in /usr/local/lib/python3.10/dist-packages (from transformers) (2023.6.3)\n",
            "Requirement already satisfied: requests in /usr/local/lib/python3.10/dist-packages (from transformers) (2.31.0)\n",
            "Collecting tokenizers!=0.11.3,<0.14,>=0.11.1 (from transformers)\n",
            "  Downloading tokenizers-0.13.3-cp310-cp310-manylinux_2_17_x86_64.manylinux2014_x86_64.whl (7.8 MB)\n",
            "\u001b[2K     \u001b[90m━━━━━━━━━━━━━━━━━━━━━━━━━━━━━━━━━━━━━━━━\u001b[0m \u001b[32m7.8/7.8 MB\u001b[0m \u001b[31m50.4 MB/s\u001b[0m eta \u001b[36m0:00:00\u001b[0m\n",
            "\u001b[?25hCollecting safetensors>=0.3.1 (from transformers)\n",
            "  Downloading safetensors-0.3.3-cp310-cp310-manylinux_2_17_x86_64.manylinux2014_x86_64.whl (1.3 MB)\n",
            "\u001b[2K     \u001b[90m━━━━━━━━━━━━━━━━━━━━━━━━━━━━━━━━━━━━━━━━\u001b[0m \u001b[32m1.3/1.3 MB\u001b[0m \u001b[31m57.4 MB/s\u001b[0m eta \u001b[36m0:00:00\u001b[0m\n",
            "\u001b[?25hRequirement already satisfied: tqdm>=4.27 in /usr/local/lib/python3.10/dist-packages (from transformers) (4.66.1)\n",
            "Requirement already satisfied: fsspec in /usr/local/lib/python3.10/dist-packages (from huggingface-hub<1.0,>=0.15.1->transformers) (2023.6.0)\n",
            "Requirement already satisfied: typing-extensions>=3.7.4.3 in /usr/local/lib/python3.10/dist-packages (from huggingface-hub<1.0,>=0.15.1->transformers) (4.7.1)\n",
            "Requirement already satisfied: charset-normalizer<4,>=2 in /usr/local/lib/python3.10/dist-packages (from requests->transformers) (3.2.0)\n",
            "Requirement already satisfied: idna<4,>=2.5 in /usr/local/lib/python3.10/dist-packages (from requests->transformers) (3.4)\n",
            "Requirement already satisfied: urllib3<3,>=1.21.1 in /usr/local/lib/python3.10/dist-packages (from requests->transformers) (2.0.4)\n",
            "Requirement already satisfied: certifi>=2017.4.17 in /usr/local/lib/python3.10/dist-packages (from requests->transformers) (2023.7.22)\n",
            "Installing collected packages: tokenizers, safetensors, huggingface-hub, transformers\n",
            "Successfully installed huggingface-hub-0.16.4 safetensors-0.3.3 tokenizers-0.13.3 transformers-4.33.1\n"
          ]
        }
      ],
      "source": [
        "!pip install transformers"
      ]
    },
    {
      "cell_type": "code",
      "execution_count": null,
      "metadata": {
        "id": "E_k2cd4kRCuJ"
      },
      "outputs": [],
      "source": [
        "# facebook/bart-large-mnliで実行"
      ]
    },
    {
      "cell_type": "code",
      "execution_count": 26,
      "metadata": {
        "colab": {
          "base_uri": "https://localhost:8080/"
        },
        "id": "gDe_SSGYIoPA",
        "outputId": "9c5e5807-07fd-43be-de21-e36d05c0aeec"
      },
      "outputs": [
        {
          "name": "stdout",
          "output_type": "stream",
          "text": [
            "Collecting mecab-python3\n",
            "  Downloading mecab_python3-1.0.6-cp310-cp310-manylinux_2_17_x86_64.manylinux2014_x86_64.whl (581 kB)\n",
            "\u001b[2K     \u001b[90m━━━━━━━━━━━━━━━━━━━━━━━━━━━━━━━━━━━━━━━\u001b[0m \u001b[32m581.6/581.6 kB\u001b[0m \u001b[31m4.2 MB/s\u001b[0m eta \u001b[36m0:00:00\u001b[0m\n",
            "\u001b[?25hInstalling collected packages: mecab-python3\n",
            "Successfully installed mecab-python3-1.0.6\n",
            "Collecting unidic\n",
            "  Downloading unidic-1.1.0.tar.gz (7.7 kB)\n",
            "  Preparing metadata (setup.py) ... \u001b[?25l\u001b[?25hdone\n",
            "Requirement already satisfied: requests<3.0.0,>=2.22.0 in /usr/local/lib/python3.10/dist-packages (from unidic) (2.31.0)\n",
            "Requirement already satisfied: tqdm<5.0.0,>=4.41.1 in /usr/local/lib/python3.10/dist-packages (from unidic) (4.66.1)\n",
            "Collecting wasabi<1.0.0,>=0.6.0 (from unidic)\n",
            "  Downloading wasabi-0.10.1-py3-none-any.whl (26 kB)\n",
            "Collecting plac<2.0.0,>=1.1.3 (from unidic)\n",
            "  Downloading plac-1.3.5-py2.py3-none-any.whl (22 kB)\n",
            "Requirement already satisfied: charset-normalizer<4,>=2 in /usr/local/lib/python3.10/dist-packages (from requests<3.0.0,>=2.22.0->unidic) (3.2.0)\n",
            "Requirement already satisfied: idna<4,>=2.5 in /usr/local/lib/python3.10/dist-packages (from requests<3.0.0,>=2.22.0->unidic) (3.4)\n",
            "Requirement already satisfied: urllib3<3,>=1.21.1 in /usr/local/lib/python3.10/dist-packages (from requests<3.0.0,>=2.22.0->unidic) (2.0.4)\n",
            "Requirement already satisfied: certifi>=2017.4.17 in /usr/local/lib/python3.10/dist-packages (from requests<3.0.0,>=2.22.0->unidic) (2023.7.22)\n",
            "Building wheels for collected packages: unidic\n",
            "  Building wheel for unidic (setup.py) ... \u001b[?25l\u001b[?25hdone\n",
            "  Created wheel for unidic: filename=unidic-1.1.0-py3-none-any.whl size=7406 sha256=333cd4fde0cafb60986adc2d40e05a6673ff426c6ff43e5a8f60361e02203ddf\n",
            "  Stored in directory: /root/.cache/pip/wheels/7a/72/72/1f3d654c345ea69d5d51b531c90daf7ba14cc555eaf2c64ab0\n",
            "Successfully built unidic\n",
            "Installing collected packages: wasabi, plac, unidic\n",
            "  Attempting uninstall: wasabi\n",
            "    Found existing installation: wasabi 1.1.2\n",
            "    Uninstalling wasabi-1.1.2:\n",
            "      Successfully uninstalled wasabi-1.1.2\n",
            "Successfully installed plac-1.3.5 unidic-1.1.0 wasabi-0.10.1\n"
          ]
        }
      ],
      "source": [
        "#user_questionを形態素解析するためインストール\n",
        "!pip install mecab-python3\n",
        "!pip install unidic"
      ]
    },
    {
      "cell_type": "code",
      "execution_count": 28,
      "metadata": {
        "colab": {
          "base_uri": "https://localhost:8080/"
        },
        "id": "vkRbNIX0JEPB",
        "outputId": "f53dddfb-f192-438a-e8b3-70fbe1cc1d6d"
      },
      "outputs": [
        {
          "name": "stdout",
          "output_type": "stream",
          "text": [
            "download url: https://cotonoha-dic.s3-ap-northeast-1.amazonaws.com/unidic-3.1.0.zip\n",
            "Dictionary version: 3.1.0+2021-08-31\n",
            "Downloading UniDic v3.1.0+2021-08-31...\n",
            "unidic-3.1.0.zip: 100% 526M/526M [00:20<00:00, 25.1MB/s]\n",
            "Finished download.\n",
            "Downloaded UniDic v3.1.0+2021-08-31 to /usr/local/lib/python3.10/dist-packages/unidic/dicdir\n"
          ]
        }
      ],
      "source": [
        "#辞書データをインストール\n",
        "!python -m unidic download"
      ]
    },
    {
      "cell_type": "code",
      "execution_count": 30,
      "metadata": {
        "id": "PBeezGivuPjm"
      },
      "outputs": [],
      "source": [
        "from transformers import pipeline\n",
        "import datetime\n",
        "import MeCab\n",
        "import unidic"
      ]
    },
    {
      "cell_type": "code",
      "execution_count": 14,
      "metadata": {
        "id": "abnAl2_BBaNV"
      },
      "outputs": [],
      "source": [
        "#曜日取得用\n",
        "def date_weekday():\n",
        "    weekday = datetime.date.today().weekday()\n",
        "    #月曜\n",
        "    if weekday == 0:\n",
        "      return \"の営業時間は10時から20時です。(月曜)\"\n",
        "    #火曜\n",
        "    elif weekday == 1:\n",
        "      return \"の営業時間は10時から20時です。(火曜)\"\n",
        "    #水曜\n",
        "    elif weekday == 2:\n",
        "      return \"の営業時間は10時から20時です。(水曜)\"\n",
        "    #木曜\n",
        "    elif weekday == 3:\n",
        "      return \"の営業時間は10時から20時です。(木曜)\"\n",
        "    #金曜\n",
        "    elif weekday == 4:\n",
        "      return \"の営業時間は10時から20時です。(金曜)\"\n",
        "    #土曜\n",
        "    elif weekday == 5:\n",
        "      return \"は休業日です。(土曜)\"\n",
        "    #日曜\n",
        "    elif weekday == 6:\n",
        "      return \"は休業日です。(日曜)\"\n",
        "    else:\n",
        "      return \"不明です。\""
      ]
    },
    {
      "cell_type": "code",
      "execution_count": 41,
      "metadata": {
        "id": "rXEzHifYQ_Je"
      },
      "outputs": [],
      "source": [
        "def question_Analysis(user_question, specific_words):\n",
        "    tagger = MeCab.Tagger()  # 「tagger = MeCab.Tagger('-d ' + unidic.DICDIR)」\n",
        "    # MeCabを使用してテキストを解析\n",
        "    result = tagger.parse(user_question)\n",
        "    print(result)\n",
        "    # 解析結果を分割し、単語ごとに処理\n",
        "    for word_info in result.split(\"\\n\"):\n",
        "        # 単語情報は「表層形\\t品詞,品詞細分類1,品詞細分類2,品詞細分類3,活用型,活用形,原形,読み,発音」の形式\n",
        "        word_info_parts = word_info.split(\"\\t\")\n",
        "\n",
        "        if len(word_info_parts) > 1:\n",
        "            # 単語部分を取得\n",
        "            word = word_info_parts[0]\n",
        "\n",
        "            # 特定の単語が含まれている場合\n",
        "            for specific_word in specific_words:\n",
        "                if specific_word in word:\n",
        "                    return True\n",
        "    # 特定の単語が含まれていない場合\n",
        "    return False"
      ]
    },
    {
      "cell_type": "code",
      "execution_count": 58,
      "metadata": {
        "id": "JpaI--jP-EYr"
      },
      "outputs": [],
      "source": [
        "#ベースになる関数\n",
        "def answer_question(question):\n",
        "    # ゼロショット分類パイプラインを初期化\n",
        "    classifier = pipeline(\"zero-shot-classification\" )\n",
        "\n",
        "    # 可能なカテゴリ\n",
        "    candidate_categories = [\"営業時間\", \"料金\", \"サービス内容\", \"予約方法\",\"社長\"]\n",
        "    day_list = [\"月曜日\",\"火曜日\",\"水曜日\",\"木曜日\",\"金曜日\",\"土曜日\",\"日曜日\",\"今日\"] #\"今日\"を追加\n",
        "\n",
        "\n",
        "    # 分類を実行\n",
        "    result = classifier(question, candidate_labels=candidate_categories, lang_id=\"ja\")\n",
        "\n",
        "    # 最も確率の高いカテゴリを取得\n",
        "    best_category = result[\"labels\"][0]\n",
        "\n",
        "    # 各ラベルのスコアと分類結果を表示\n",
        "    for label, score in zip(result[\"labels\"], result[\"scores\"]):\n",
        "      print(f\"ラベル: {label}, スコア: {score:.4f}\")\n",
        "\n",
        "    # カテゴリに応じた回答を生成（実際にはここでデータベースなどから情報を取得することも考えられます）\n",
        "    if best_category == \"営業時間\":\n",
        "        day_result = classifier(question, candidate_labels=day_list, lang_id=\"ja\")\n",
        "        day_category = day_result[\"labels\"][0]\n",
        "        print(\"\")\n",
        "        ## 曜日間におけるスコアリング → これだけでは\"今日\"ラベルがうまく機能しなかったため、形態素解析も組み込んだ。\n",
        "        print(\"以下、day_resultのスコア\")\n",
        "        for label, score in zip(day_result[\"labels\"], day_result[\"scores\"]):\n",
        "            print(f\"ラベル: {label}, スコア: {score:.4f}\")\n",
        "        ## 以下、形態素解析\n",
        "        specific_words = [\"今日\",\"本日\"]\n",
        "        if question_Analysis(user_question, specific_words):\n",
        "            print(\"指定した単語が含まれています。\")\n",
        "            # 特定のラベルに0.5を加算\n",
        "            specific_label = \"今日\"\n",
        "            specific_index = day_result[\"labels\"].index(specific_label)\n",
        "            day_result[\"scores\"][specific_index] += 0.5\n",
        "            print(f\"{specific_label} スコア: {day_result['scores'][specific_index]:.4f}\")\n",
        "\n",
        "            # ラベルとスコアを一時的なタプルのリストにまとめる\n",
        "            label_score_pairs = [(label, score) for label, score in zip(day_result[\"labels\"], day_result[\"scores\"])]\n",
        "            # スコアの大きい順にソート\n",
        "            sorted_label_score_pairs = sorted(label_score_pairs, key=lambda x: x[1], reverse=True)\n",
        "            # ソートされたリストからラベルとスコアを再度取り出す\n",
        "            sorted_labels = [label for label, score in sorted_label_score_pairs]\n",
        "            sorted_scores = [score for label, score in sorted_label_score_pairs]\n",
        "            # day_result を更新\n",
        "            day_result[\"labels\"] = sorted_labels\n",
        "            day_result[\"scores\"] = sorted_scores\n",
        "\n",
        "            day_category = day_result[\"labels\"][0]\n",
        "        else:\n",
        "            print(\"指定した単語は含まれていません。\")\n",
        "        #--------------------------------\n",
        "        if day_category == \"月曜日\":\n",
        "            return \"月曜日の営業時間は10時から20時です。\"\n",
        "        elif day_category == \"火曜日\":\n",
        "            return \"火曜日の営業時間は10時から20時です。\"\n",
        "        elif day_category == \"水曜日\":\n",
        "            return \"水曜日の営業時間は10時から20時です。\"\n",
        "        elif day_category == \"木曜日\":\n",
        "            return \"木曜日の営業時間は10時から20時です。\"\n",
        "        elif day_category == \"金曜日\":\n",
        "            return \"金曜日の営業時間は10時から20時です。\"\n",
        "        elif day_category == \"今日\":\n",
        "            return \"本日\"+date_weekday()\n",
        "        else:\n",
        "            return \"時間のことですか？\\n          申し訳ありません、わかりません。\"\n",
        "    elif best_category == \"料金\":\n",
        "        return \"料金についての情報はAです。\"\n",
        "    elif best_category == \"サービス内容\":\n",
        "        return \"サービス内容についてはBです。\"\n",
        "    elif best_category == \"予約方法\":\n",
        "        return \"予約はCで行えます。\"\n",
        "    elif best_category == \"社長\":\n",
        "        return \"社長ブログをご覧ください。（http:// ...）\"\n",
        "    else:\n",
        "        print(\"どの条件にもマッチしませんでした。\")\n",
        "        return \"申し訳ありません、わかりません。\""
      ]
    },
    {
      "cell_type": "markdown",
      "metadata": {
        "id": "vStp6D2gIY0v"
      },
      "source": [
        "\n",
        "\n",
        "---\n",
        "以下、質問文\n"
      ]
    },
    {
      "cell_type": "code",
      "execution_count": 16,
      "metadata": {
        "colab": {
          "base_uri": "https://localhost:8080/"
        },
        "id": "eCLIj8FkDUYr",
        "outputId": "c5fab958-c803-4a18-fb60-7be411a00d2c"
      },
      "outputs": [
        {
          "name": "stderr",
          "output_type": "stream",
          "text": [
            "No model was supplied, defaulted to facebook/bart-large-mnli and revision c626438 (https://huggingface.co/facebook/bart-large-mnli).\n",
            "Using a pipeline without specifying a model name and revision in production is not recommended.\n"
          ]
        },
        {
          "name": "stdout",
          "output_type": "stream",
          "text": [
            "質問内容: 月曜日の営業時間は何時ですか？\n",
            "\n",
            "\n",
            "ラベル: 営業時間, スコア: 0.8403\n",
            "ラベル: 料金, スコア: 0.0672\n",
            "ラベル: 社長, スコア: 0.0384\n",
            "ラベル: 予約方法, スコア: 0.0276\n",
            "ラベル: サービス内容, スコア: 0.0265\n",
            "\n",
            "\n",
            "以下、day_resultのスコア\n",
            "ラベル: 月曜日, スコア: 0.5123\n",
            "ラベル: 木曜日, スコア: 0.2924\n",
            "ラベル: 今日, スコア: 0.0549\n",
            "ラベル: 日曜日, スコア: 0.0435\n",
            "ラベル: 土曜日, スコア: 0.0411\n",
            "ラベル: 金曜日, スコア: 0.0316\n",
            "ラベル: 水曜日, スコア: 0.0183\n",
            "ラベル: 火曜日, スコア: 0.0060\n",
            "\n",
            "\n",
            "回答内容: 月曜日の営業時間は10時から20時です。\n",
            "---------------------------------------------------------------------------\n"
          ]
        }
      ],
      "source": [
        "# ユーザーからの質問\n",
        "user_question = \"月曜日の営業時間は何時ですか？\"\n",
        "print(\"質問内容:\",user_question)\n",
        "print(\"\")\n",
        "# 質問に回答\n",
        "response = answer_question(user_question)\n",
        "print(\"\")\n",
        "print(\"回答内容:\",response)\n",
        "print(\"---------------------------------------------------------------------------\")"
      ]
    },
    {
      "cell_type": "code",
      "execution_count": 7,
      "metadata": {
        "colab": {
          "base_uri": "https://localhost:8080/"
        },
        "id": "9SoKsNkmdpjs",
        "outputId": "6c98bd64-a6b1-4d91-fed7-f73b6c841d71"
      },
      "outputs": [
        {
          "name": "stderr",
          "output_type": "stream",
          "text": [
            "No model was supplied, defaulted to facebook/bart-large-mnli and revision c626438 (https://huggingface.co/facebook/bart-large-mnli).\n",
            "Using a pipeline without specifying a model name and revision in production is not recommended.\n"
          ]
        },
        {
          "name": "stdout",
          "output_type": "stream",
          "text": [
            "質問内容: 料金について教えて\n",
            "\n",
            "\n",
            "ラベル: 料金, スコア: 0.8471\n",
            "ラベル: 社長, スコア: 0.0504\n",
            "ラベル: サービス内容, スコア: 0.0402\n",
            "ラベル: 営業時間, スコア: 0.0321\n",
            "ラベル: 予約方法, スコア: 0.0302\n",
            "\n",
            "\n",
            "回答内容: 料金についての情報はAです。\n",
            "---------------------------------------------------------------------------\n"
          ]
        }
      ],
      "source": [
        "# ユーザーからの質問\n",
        "user_question = \"料金について教えて\"\n",
        "print(\"質問内容:\",user_question)\n",
        "print(\"\")\n",
        "# 質問に回答\n",
        "response = answer_question(user_question)\n",
        "print(\"\")\n",
        "print(\"回答内容:\",response)\n",
        "print(\"---------------------------------------------------------------------------\")"
      ]
    },
    {
      "cell_type": "code",
      "execution_count": null,
      "metadata": {
        "colab": {
          "base_uri": "https://localhost:8080/"
        },
        "id": "8UuwGAM2OdF0",
        "outputId": "9004eb03-effd-4183-d04b-7020650046f5"
      },
      "outputs": [
        {
          "name": "stderr",
          "output_type": "stream",
          "text": [
            "No model was supplied, defaulted to facebook/bart-large-mnli and revision c626438 (https://huggingface.co/facebook/bart-large-mnli).\n",
            "Using a pipeline without specifying a model name and revision in production is not recommended.\n"
          ]
        },
        {
          "name": "stdout",
          "output_type": "stream",
          "text": [
            "質問内容: 詳しく知りたい\n",
            "\n",
            "\n",
            "ラベル: 社長, スコア: 0.3146\n",
            "ラベル: 料金, スコア: 0.2429\n",
            "ラベル: サービス内容, スコア: 0.2044\n",
            "ラベル: 予約方法, スコア: 0.1261\n",
            "ラベル: 営業時間, スコア: 0.1120\n",
            "\n",
            "\n",
            "回答内容: 社長ブログをご覧ください。（http:// ...）\n",
            "---------------------------------------------------------------------------\n"
          ]
        }
      ],
      "source": [
        "# ユーザーからの質問\n",
        "user_question = \"詳しく知りたい\"\n",
        "print(\"質問内容:\",user_question)\n",
        "print(\"\")\n",
        "# 質問に回答\n",
        "response = answer_question(user_question)\n",
        "print(\"\")\n",
        "print(\"回答内容:\",response)\n",
        "print(\"---------------------------------------------------------------------------\")"
      ]
    },
    {
      "cell_type": "code",
      "execution_count": 8,
      "metadata": {
        "colab": {
          "base_uri": "https://localhost:8080/"
        },
        "id": "24B0tr6QDabw",
        "outputId": "3af2476a-2969-494a-edba-aa20298a4b08"
      },
      "outputs": [
        {
          "name": "stderr",
          "output_type": "stream",
          "text": [
            "No model was supplied, defaulted to facebook/bart-large-mnli and revision c626438 (https://huggingface.co/facebook/bart-large-mnli).\n",
            "Using a pipeline without specifying a model name and revision in production is not recommended.\n"
          ]
        },
        {
          "name": "stdout",
          "output_type": "stream",
          "text": [
            "質問内容: あいてる時間は何時ですか？\n",
            "\n",
            "\n",
            "ラベル: 営業時間, スコア: 0.2372\n",
            "ラベル: 社長, スコア: 0.2154\n",
            "ラベル: 料金, スコア: 0.2091\n",
            "ラベル: サービス内容, スコア: 0.2076\n",
            "ラベル: 予約方法, スコア: 0.1306\n",
            "\n",
            "\n",
            "以下、day_resultのスコア\n",
            "ラベル: 土曜日, スコア: 0.1614\n",
            "ラベル: 木曜日, スコア: 0.1537\n",
            "ラベル: 月曜日, スコア: 0.1489\n",
            "ラベル: 水曜日, スコア: 0.1480\n",
            "ラベル: 日曜日, スコア: 0.1436\n",
            "ラベル: 金曜日, スコア: 0.1328\n",
            "ラベル: 火曜日, スコア: 0.1116\n",
            "\n",
            "\n",
            "回答内容: 時間のことですか？\n",
            "          申し訳ありません、わかりません。\n",
            "---------------------------------------------------------------------------\n"
          ]
        }
      ],
      "source": [
        "# ユーザーからの質問\n",
        "user_question = \"あいてる時間は何時ですか？\"\n",
        "print(\"質問内容:\",user_question)\n",
        "print(\"\")\n",
        "# 質問に回答\n",
        "response = answer_question(user_question)\n",
        "print(\"\")\n",
        "print(\"回答内容:\",response)\n",
        "print(\"---------------------------------------------------------------------------\")"
      ]
    },
    {
      "cell_type": "code",
      "execution_count": 11,
      "metadata": {
        "colab": {
          "base_uri": "https://localhost:8080/"
        },
        "id": "Ru4DdXy7EYw-",
        "outputId": "f5ae1281-5a50-460e-9cd4-ff5cfd0343ef"
      },
      "outputs": [
        {
          "name": "stderr",
          "output_type": "stream",
          "text": [
            "No model was supplied, defaulted to facebook/bart-large-mnli and revision c626438 (https://huggingface.co/facebook/bart-large-mnli).\n",
            "Using a pipeline without specifying a model name and revision in production is not recommended.\n"
          ]
        },
        {
          "name": "stdout",
          "output_type": "stream",
          "text": [
            "質問内容: サービス時間は何時ですか？\n",
            "\n",
            "\n",
            "ラベル: サービス内容, スコア: 0.2801\n",
            "ラベル: 社長, スコア: 0.2227\n",
            "ラベル: 営業時間, スコア: 0.1838\n",
            "ラベル: 料金, スコア: 0.1677\n",
            "ラベル: 予約方法, スコア: 0.1457\n",
            "\n",
            "\n",
            "回答内容: サービス内容についてはBです。\n",
            "---------------------------------------------------------------------------\n"
          ]
        }
      ],
      "source": [
        "# ユーザーからの質問\n",
        "user_question = \"サービス時間は何時ですか？\"\n",
        "print(\"質問内容:\",user_question)\n",
        "print(\"\")\n",
        "# 質問に回答\n",
        "response = answer_question(user_question)\n",
        "print(\"\")\n",
        "print(\"回答内容:\",response)\n",
        "print(\"---------------------------------------------------------------------------\")"
      ]
    },
    {
      "cell_type": "code",
      "execution_count": 10,
      "metadata": {
        "colab": {
          "base_uri": "https://localhost:8080/"
        },
        "id": "FoP9VDoaExJV",
        "outputId": "3a9c3540-6a76-4e82-e699-b47f02938aa4"
      },
      "outputs": [
        {
          "name": "stderr",
          "output_type": "stream",
          "text": [
            "No model was supplied, defaulted to facebook/bart-large-mnli and revision c626438 (https://huggingface.co/facebook/bart-large-mnli).\n",
            "Using a pipeline without specifying a model name and revision in production is not recommended.\n"
          ]
        },
        {
          "name": "stdout",
          "output_type": "stream",
          "text": [
            "質問内容: 時間は何時ですか？\n",
            "\n",
            "\n",
            "ラベル: 営業時間, スコア: 0.3834\n",
            "ラベル: 料金, スコア: 0.1940\n",
            "ラベル: 社長, スコア: 0.1859\n",
            "ラベル: サービス内容, スコア: 0.1268\n",
            "ラベル: 予約方法, スコア: 0.1099\n",
            "\n",
            "\n",
            "以下、day_resultのスコア\n",
            "ラベル: 土曜日, スコア: 0.1765\n",
            "ラベル: 日曜日, スコア: 0.1504\n",
            "ラベル: 木曜日, スコア: 0.1497\n",
            "ラベル: 月曜日, スコア: 0.1453\n",
            "ラベル: 水曜日, スコア: 0.1435\n",
            "ラベル: 金曜日, スコア: 0.1337\n",
            "ラベル: 火曜日, スコア: 0.1010\n",
            "\n",
            "\n",
            "回答内容: 時間のことですか？\n",
            "          申し訳ありません、わかりません。\n",
            "---------------------------------------------------------------------------\n"
          ]
        }
      ],
      "source": [
        "# ユーザーからの質問\n",
        "user_question = \"時間は何時ですか？\"\n",
        "print(\"質問内容:\",user_question)\n",
        "print(\"\")\n",
        "# 質問に回答\n",
        "response = answer_question(user_question)\n",
        "print(\"\")\n",
        "print(\"回答内容:\",response)\n",
        "print(\"---------------------------------------------------------------------------\")"
      ]
    },
    {
      "cell_type": "code",
      "execution_count": 9,
      "metadata": {
        "colab": {
          "base_uri": "https://localhost:8080/"
        },
        "id": "seFf2TguE4_E",
        "outputId": "3eb8cf81-4aee-4231-9d91-cd577f6aa32f"
      },
      "outputs": [
        {
          "name": "stderr",
          "output_type": "stream",
          "text": [
            "No model was supplied, defaulted to facebook/bart-large-mnli and revision c626438 (https://huggingface.co/facebook/bart-large-mnli).\n",
            "Using a pipeline without specifying a model name and revision in production is not recommended.\n"
          ]
        },
        {
          "name": "stdout",
          "output_type": "stream",
          "text": [
            "質問内容: 時間は？\n",
            "\n",
            "\n",
            "ラベル: 営業時間, スコア: 0.4461\n",
            "ラベル: 社長, スコア: 0.2033\n",
            "ラベル: 予約方法, スコア: 0.1320\n",
            "ラベル: 料金, スコア: 0.1187\n",
            "ラベル: サービス内容, スコア: 0.1000\n",
            "\n",
            "\n",
            "以下、day_resultのスコア\n",
            "ラベル: 土曜日, スコア: 0.1876\n",
            "ラベル: 木曜日, スコア: 0.1546\n",
            "ラベル: 月曜日, スコア: 0.1506\n",
            "ラベル: 金曜日, スコア: 0.1393\n",
            "ラベル: 日曜日, スコア: 0.1360\n",
            "ラベル: 水曜日, スコア: 0.1326\n",
            "ラベル: 火曜日, スコア: 0.0993\n",
            "\n",
            "\n",
            "回答内容: 時間のことですか？\n",
            "          申し訳ありません、わかりません。\n",
            "---------------------------------------------------------------------------\n"
          ]
        }
      ],
      "source": [
        "# ユーザーからの質問\n",
        "user_question = \"時間は？\"\n",
        "print(\"質問内容:\",user_question)\n",
        "print(\"\")\n",
        "# 質問に回答\n",
        "response = answer_question(user_question)\n",
        "print(\"\")\n",
        "print(\"回答内容:\",response)\n",
        "print(\"---------------------------------------------------------------------------\")"
      ]
    },
    {
      "cell_type": "code",
      "execution_count": null,
      "metadata": {
        "colab": {
          "base_uri": "https://localhost:8080/"
        },
        "id": "ctg7gMDYKnoN",
        "outputId": "302eb5da-c2cc-455b-fc0d-b7c0d6076ae0"
      },
      "outputs": [
        {
          "name": "stderr",
          "output_type": "stream",
          "text": [
            "No model was supplied, defaulted to facebook/bart-large-mnli and revision c626438 (https://huggingface.co/facebook/bart-large-mnli).\n",
            "Using a pipeline without specifying a model name and revision in production is not recommended.\n"
          ]
        },
        {
          "name": "stdout",
          "output_type": "stream",
          "text": [
            "質問内容: time？\n",
            "\n",
            "\n",
            "ラベル: 社長, スコア: 0.3180\n",
            "ラベル: 料金, スコア: 0.2098\n",
            "ラベル: サービス内容, スコア: 0.1769\n",
            "ラベル: 予約方法, スコア: 0.1693\n",
            "ラベル: 営業時間, スコア: 0.1259\n",
            "\n",
            "\n",
            "回答内容: 社長ブログをご覧ください。（http:// ...）\n",
            "---------------------------------------------------------------------------\n"
          ]
        }
      ],
      "source": [
        "# ユーザーからの質問\n",
        "user_question = \"time？\"\n",
        "print(\"質問内容:\",user_question)\n",
        "print(\"\")\n",
        "# 質問に回答\n",
        "response = answer_question(user_question)\n",
        "print(\"\")\n",
        "print(\"回答内容:\",response)\n",
        "print(\"---------------------------------------------------------------------------\")"
      ]
    },
    {
      "cell_type": "code",
      "execution_count": null,
      "metadata": {
        "colab": {
          "base_uri": "https://localhost:8080/"
        },
        "id": "Cdq4TgLzG46O",
        "outputId": "177b6b11-eeb4-43e6-ec3e-a2cde1305d90"
      },
      "outputs": [
        {
          "name": "stderr",
          "output_type": "stream",
          "text": [
            "No model was supplied, defaulted to facebook/bart-large-mnli and revision c626438 (https://huggingface.co/facebook/bart-large-mnli).\n",
            "Using a pipeline without specifying a model name and revision in production is not recommended.\n"
          ]
        },
        {
          "name": "stdout",
          "output_type": "stream",
          "text": [
            "質問内容: 就業時間は？\n",
            "\n",
            "\n",
            "ラベル: 営業時間, スコア: 0.3406\n",
            "ラベル: 社長, スコア: 0.2297\n",
            "ラベル: 料金, スコア: 0.1612\n",
            "ラベル: 予約方法, スコア: 0.1481\n",
            "ラベル: サービス内容, スコア: 0.1205\n",
            "\n",
            "\n",
            "回答内容: 時間のことですか？\n",
            "          申し訳ありません、わかりません。\n",
            "---------------------------------------------------------------------------\n"
          ]
        }
      ],
      "source": [
        "# ユーザーからの質問\n",
        "user_question = \"就業時間は？\"\n",
        "print(\"質問内容:\",user_question)\n",
        "print(\"\\n\")\n",
        "# 質問に回答\n",
        "response = answer_question(user_question)\n",
        "print(\"\\n\")\n",
        "print(\"回答内容:\",response)\n",
        "print(\"---------------------------------------------------------------------------\")"
      ]
    },
    {
      "cell_type": "markdown",
      "metadata": {
        "id": "XY6VCp8hDcGV"
      },
      "source": [
        "\n",
        "\n",
        "---\n",
        "\n",
        "以下、\"今日\"ラベル対応後"
      ]
    },
    {
      "cell_type": "code",
      "execution_count": 46,
      "metadata": {
        "colab": {
          "base_uri": "https://localhost:8080/",
          "height": 596
        },
        "id": "Bdz8p1UmEyZy",
        "outputId": "58f94f48-b91b-4d52-b506-34dd4ce5dc35"
      },
      "outputs": [
        {
          "name": "stderr",
          "output_type": "stream",
          "text": [
            "No model was supplied, defaulted to facebook/bart-large-mnli and revision c626438 (https://huggingface.co/facebook/bart-large-mnli).\n",
            "Using a pipeline without specifying a model name and revision in production is not recommended.\n"
          ]
        },
        {
          "name": "stdout",
          "output_type": "stream",
          "text": [
            "質問内容: 今日の対応時間は？\n",
            "\n",
            "ラベル: 営業時間, スコア: 0.4123\n",
            "ラベル: 社長, スコア: 0.1908\n",
            "ラベル: 料金, スコア: 0.1547\n",
            "ラベル: 予約方法, スコア: 0.1350\n",
            "ラベル: サービス内容, スコア: 0.1072\n",
            "\n",
            "以下、day_resultのスコア\n",
            "ラベル: 今日, スコア: 0.8631\n",
            "ラベル: 土曜日, スコア: 0.0335\n",
            "ラベル: 水曜日, スコア: 0.0235\n",
            "ラベル: 日曜日, スコア: 0.0218\n",
            "ラベル: 木曜日, スコア: 0.0182\n",
            "ラベル: 金曜日, スコア: 0.0173\n",
            "ラベル: 月曜日, スコア: 0.0172\n",
            "ラベル: 火曜日, スコア: 0.0054\n",
            "今日\t名詞,普通名詞,副詞可能,,,,キョウ,今日,今日,キョー,今日,キョー,和,\"\",\"\",\"\",\"\",\"\",\"\",体,キョウ,キョウ,キョウ,キョウ,\"1\",\"C3\",\"\",2509094191768064,9128\n",
            "の\t助詞,格助詞,,,,,ノ,の,の,ノ,の,ノ,和,\"\",\"\",\"\",\"\",\"\",\"\",格助,ノ,ノ,ノ,ノ,\"\",\"名詞%F1\",\"\",7968444268028416,28989\n",
            "対応\t名詞,普通名詞,サ変可能,,,,タイオウ,対応,対応,タイオー,対応,タイオー,漢,\"\",\"\",\"\",\"\",\"\",\"\",体,タイオウ,タイオウ,タイオウ,タイオウ,\"0\",\"C2\",\"\",5959086768267776,21679\n",
            "時間\t名詞,普通名詞,助数詞可能,,,,ジカン,時間,時間,ジカン,時間,ジカン,漢,\"\",\"\",\"\",\"\",\"\",\"B4WW7G9G,B4WW\",体,ジカン,ジカン,ジカン,ジカン,\"0\",\"C2\",\"\",4884039274209792,17768\n",
            "は\t助詞,係助詞,,,,,ハ,は,は,ワ,は,ワ,和,\"\",\"\",\"\",\"\",\"\",\"\",係助,ハ,ハ,ハ,ハ,\"\",\"動詞%F2@0,名詞%F1,形容詞%F2@-1\",\"\",8059703733133824,29321\n",
            "？\t補助記号,句点,,,,,,？,？,,？,,記号,\"\",\"\",\"\",\"\",\"\",\"\",補助,,,,,\"\",\"\",\"\",15676664324608,57\n",
            "EOS\n",
            "\n",
            "指定した単語が含まれています。\n",
            "\n",
            "回答内容: 本日の営業時間は10時から20時です。(金曜)\n",
            "---------------------------------------------------------------------------\n"
          ]
        }
      ],
      "source": [
        "# ユーザーからの質問\n",
        "user_question = \"今日の対応時間は？\"\n",
        "print(\"質問内容:\",user_question)\n",
        "print(\"\")\n",
        "# 質問に回答\n",
        "response = answer_question(user_question)\n",
        "print(\"\")\n",
        "print(\"回答内容:\",response)\n",
        "print(\"---------------------------------------------------------------------------\")"
      ]
    },
    {
      "cell_type": "code",
      "execution_count": 59,
      "metadata": {
        "colab": {
          "base_uri": "https://localhost:8080/"
        },
        "id": "pHbeUQwhES2m",
        "outputId": "014a6a76-caed-436b-efeb-7ca9d5255448"
      },
      "outputs": [
        {
          "name": "stderr",
          "output_type": "stream",
          "text": [
            "No model was supplied, defaulted to facebook/bart-large-mnli and revision c626438 (https://huggingface.co/facebook/bart-large-mnli).\n",
            "Using a pipeline without specifying a model name and revision in production is not recommended.\n"
          ]
        },
        {
          "name": "stdout",
          "output_type": "stream",
          "text": [
            "質問内容: 本日の対応時間は？\n",
            "\n",
            "ラベル: 営業時間, スコア: 0.3452\n",
            "ラベル: 社長, スコア: 0.2339\n",
            "ラベル: 料金, スコア: 0.1459\n",
            "ラベル: 予約方法, スコア: 0.1404\n",
            "ラベル: サービス内容, スコア: 0.1345\n",
            "\n",
            "以下、day_resultのスコア\n",
            "ラベル: 木曜日, スコア: 0.3437\n",
            "ラベル: 月曜日, スコア: 0.2928\n",
            "ラベル: 今日, スコア: 0.1365\n",
            "ラベル: 土曜日, スコア: 0.0901\n",
            "ラベル: 日曜日, スコア: 0.0442\n",
            "ラベル: 水曜日, スコア: 0.0398\n",
            "ラベル: 金曜日, スコア: 0.0359\n",
            "ラベル: 火曜日, スコア: 0.0169\n",
            "本日\t名詞,普通名詞,副詞可能,,,,ホンジツ,本日,本日,ホンジツ,本日,ホンジツ,漢,\"\",\"\",\"\",\"\",\"\",\"\",体,ホンジツ,ホンジツ,ホンジツ,ホンジツ,\"1\",\"C1\",\"\",9597920500392448,34917\n",
            "の\t助詞,格助詞,,,,,ノ,の,の,ノ,の,ノ,和,\"\",\"\",\"\",\"\",\"\",\"\",格助,ノ,ノ,ノ,ノ,\"\",\"名詞%F1\",\"\",7968444268028416,28989\n",
            "対応\t名詞,普通名詞,サ変可能,,,,タイオウ,対応,対応,タイオー,対応,タイオー,漢,\"\",\"\",\"\",\"\",\"\",\"\",体,タイオウ,タイオウ,タイオウ,タイオウ,\"0\",\"C2\",\"\",5959086768267776,21679\n",
            "時間\t名詞,普通名詞,助数詞可能,,,,ジカン,時間,時間,ジカン,時間,ジカン,漢,\"\",\"\",\"\",\"\",\"\",\"B4WW7G9G,B4WW\",体,ジカン,ジカン,ジカン,ジカン,\"0\",\"C2\",\"\",4884039274209792,17768\n",
            "は\t助詞,係助詞,,,,,ハ,は,は,ワ,は,ワ,和,\"\",\"\",\"\",\"\",\"\",\"\",係助,ハ,ハ,ハ,ハ,\"\",\"動詞%F2@0,名詞%F1,形容詞%F2@-1\",\"\",8059703733133824,29321\n",
            "？\t補助記号,句点,,,,,,？,？,,？,,記号,\"\",\"\",\"\",\"\",\"\",\"\",補助,,,,,\"\",\"\",\"\",15676664324608,57\n",
            "EOS\n",
            "\n",
            "指定した単語が含まれています。\n",
            "今日 スコア: 0.6365\n",
            "\n",
            "回答内容: 本日の営業時間は10時から20時です。(金曜)\n",
            "---------------------------------------------------------------------------\n"
          ]
        }
      ],
      "source": [
        "# ユーザーからの質問\n",
        "user_question = \"本日の対応時間は？\"\n",
        "print(\"質問内容:\",user_question)\n",
        "print(\"\")\n",
        "# 質問に回答\n",
        "response = answer_question(user_question)\n",
        "print(\"\")\n",
        "print(\"回答内容:\",response)\n",
        "print(\"---------------------------------------------------------------------------\")"
      ]
    }
  ],
  "metadata": {
    "colab": {
      "provenance": []
    },
    "kernelspec": {
      "display_name": "Python 3",
      "name": "python3"
    },
    "language_info": {
      "name": "python"
    }
  },
  "nbformat": 4,
  "nbformat_minor": 0
}
